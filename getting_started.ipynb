{
 "cells": [
  {
   "cell_type": "markdown",
   "metadata": {},
   "source": [
    "# Tensors"
   ]
  },
  {
   "cell_type": "markdown",
   "metadata": {},
   "source": [
    "Tensors are similar to Numpy's ndarrays, with the addition being that Tensors can also be used on a GPU to accelerate computing."
   ]
  },
  {
   "cell_type": "code",
   "execution_count": 1,
   "metadata": {},
   "outputs": [],
   "source": [
    "from __future__ import print_function\n",
    "import torch"
   ]
  },
  {
   "cell_type": "code",
   "execution_count": 2,
   "metadata": {},
   "outputs": [
    {
     "name": "stdout",
     "output_type": "stream",
     "text": [
      "tensor([[4.7414e+16, 3.1434e-12, 8.0775e+17],\n",
      "        [1.4583e-19, 4.1486e-08, 1.3556e-19],\n",
      "        [1.8567e-01, 1.2043e-32, 1.3563e-19],\n",
      "        [1.8888e+31, 4.7414e+16, 4.0047e-11],\n",
      "        [6.4097e-10, 5.8253e-10, 6.4097e-10]])\n"
     ]
    }
   ],
   "source": [
    "x = torch.empty(5,3)\n",
    "print(x)"
   ]
  },
  {
   "cell_type": "code",
   "execution_count": 3,
   "metadata": {},
   "outputs": [
    {
     "name": "stdout",
     "output_type": "stream",
     "text": [
      "tensor([[0.6808, 0.5723, 0.5622],\n",
      "        [0.5743, 0.2358, 0.7511],\n",
      "        [0.4627, 0.1708, 0.4256],\n",
      "        [0.0585, 0.8490, 0.6880],\n",
      "        [0.1732, 0.9819, 0.6814]])\n"
     ]
    }
   ],
   "source": [
    "x = torch.rand(5,3)\n",
    "print(x)"
   ]
  },
  {
   "cell_type": "code",
   "execution_count": 4,
   "metadata": {},
   "outputs": [
    {
     "name": "stdout",
     "output_type": "stream",
     "text": [
      "tensor([[0, 0, 0],\n",
      "        [0, 0, 0],\n",
      "        [0, 0, 0],\n",
      "        [0, 0, 0],\n",
      "        [0, 0, 0]])\n"
     ]
    }
   ],
   "source": [
    "x = torch.zeros(5,3, dtype=torch.long)\n",
    "print(x)"
   ]
  },
  {
   "cell_type": "markdown",
   "metadata": {},
   "source": [
    "Construct cell directly from data:"
   ]
  },
  {
   "cell_type": "code",
   "execution_count": 5,
   "metadata": {},
   "outputs": [
    {
     "name": "stdout",
     "output_type": "stream",
     "text": [
      "tensor([5.5000, 3.0000])\n"
     ]
    }
   ],
   "source": [
    "x = torch.tensor([5.5, 3])\n",
    "print(x)"
   ]
  },
  {
   "cell_type": "markdown",
   "metadata": {},
   "source": [
    "Create a tensor based on existing tensor. These methods will reuse properties of the input tensor, e.g. dtype, unless new values are provided"
   ]
  },
  {
   "cell_type": "code",
   "execution_count": 6,
   "metadata": {},
   "outputs": [
    {
     "name": "stdout",
     "output_type": "stream",
     "text": [
      "tensor([[1., 1., 1.],\n",
      "        [1., 1., 1.],\n",
      "        [1., 1., 1.],\n",
      "        [1., 1., 1.],\n",
      "        [1., 1., 1.]], dtype=torch.float64)\n",
      "tensor([[ 0.5937,  0.4285,  0.7954],\n",
      "        [-0.9690, -0.1389, -0.1291],\n",
      "        [ 0.9000,  0.4680,  0.1969],\n",
      "        [ 1.1554,  1.2458,  1.2621],\n",
      "        [-0.7555,  1.3759, -0.3930]])\n"
     ]
    }
   ],
   "source": [
    "x = x.new_ones(5, 3, dtype=torch.double)\n",
    "print(x)\n",
    "\n",
    "x = torch.randn_like(x, dtype=torch.float)\n",
    "print(x)"
   ]
  },
  {
   "cell_type": "code",
   "execution_count": 7,
   "metadata": {},
   "outputs": [
    {
     "name": "stdout",
     "output_type": "stream",
     "text": [
      "torch.Size([5, 3])\n"
     ]
    }
   ],
   "source": [
    "print(x.size())"
   ]
  },
  {
   "cell_type": "code",
   "execution_count": 8,
   "metadata": {},
   "outputs": [
    {
     "name": "stdout",
     "output_type": "stream",
     "text": [
      "tensor([[0.3707, 0.3115, 0.8513],\n",
      "        [0.0872, 0.1580, 0.5544],\n",
      "        [0.3474, 0.5298, 0.1168],\n",
      "        [0.0637, 0.6422, 0.0818],\n",
      "        [0.4011, 0.7206, 0.8420]])\n",
      "tensor([[ 0.9644,  0.7399,  1.6467],\n",
      "        [-0.8818,  0.0191,  0.4253],\n",
      "        [ 1.2475,  0.9978,  0.3137],\n",
      "        [ 1.2191,  1.8880,  1.3439],\n",
      "        [-0.3544,  2.0966,  0.4490]])\n"
     ]
    }
   ],
   "source": [
    "y = torch.rand(5,3)\n",
    "print(y)\n",
    "print(x + y)\n"
   ]
  },
  {
   "cell_type": "code",
   "execution_count": 9,
   "metadata": {},
   "outputs": [
    {
     "name": "stdout",
     "output_type": "stream",
     "text": [
      "tensor([[ 0.9644,  0.7399,  1.6467],\n",
      "        [-0.8818,  0.0191,  0.4253],\n",
      "        [ 1.2475,  0.9978,  0.3137],\n",
      "        [ 1.2191,  1.8880,  1.3439],\n",
      "        [-0.3544,  2.0966,  0.4490]])\n"
     ]
    }
   ],
   "source": [
    "result = torch.zeros(5,3)\n",
    "torch.add(x, y, out=result)\n",
    "print(result)"
   ]
  },
  {
   "cell_type": "markdown",
   "metadata": {},
   "source": [
    "Addition: in-place"
   ]
  },
  {
   "cell_type": "code",
   "execution_count": 10,
   "metadata": {},
   "outputs": [
    {
     "name": "stdout",
     "output_type": "stream",
     "text": [
      "tensor([[ 0.9644,  0.7399,  1.6467],\n",
      "        [-0.8818,  0.0191,  0.4253],\n",
      "        [ 1.2475,  0.9978,  0.3137],\n",
      "        [ 1.2191,  1.8880,  1.3439],\n",
      "        [-0.3544,  2.0966,  0.4490]])\n"
     ]
    }
   ],
   "source": [
    "y.add_(x)\n",
    "print(y)"
   ]
  },
  {
   "cell_type": "markdown",
   "metadata": {},
   "source": [
    "### CUDA Tensors"
   ]
  },
  {
   "cell_type": "code",
   "execution_count": 11,
   "metadata": {},
   "outputs": [
    {
     "name": "stdout",
     "output_type": "stream",
     "text": [
      "True\n",
      "True\n",
      "tensor([[1.5937, 1.4285, 1.7954],\n",
      "        [0.0310, 0.8611, 0.8709],\n",
      "        [1.9000, 1.4680, 1.1969],\n",
      "        [2.1554, 2.2458, 2.2621],\n",
      "        [0.2445, 2.3759, 0.6070]], device='cuda:0')\n",
      "tensor([[1.5937, 1.4285, 1.7954],\n",
      "        [0.0310, 0.8611, 0.8709],\n",
      "        [1.9000, 1.4680, 1.1969],\n",
      "        [2.1554, 2.2458, 2.2621],\n",
      "        [0.2445, 2.3759, 0.6070]], dtype=torch.float64)\n"
     ]
    }
   ],
   "source": [
    "print(torch.cuda.is_available())\n",
    "print(torch.backends.cudnn.enabled)\n",
    "if torch.cuda.is_available():\n",
    "    device = torch.device(\"cuda\")\n",
    "    y = torch.ones_like(x, device=device)\n",
    "    x = x.to(device)\n",
    "    z = x + y\n",
    "    print(z)\n",
    "    print(z.to(\"cpu\", torch.double))"
   ]
  }
 ],
 "metadata": {
  "kernelspec": {
   "display_name": "Python 3",
   "language": "python",
   "name": "python3"
  },
  "language_info": {
   "codemirror_mode": {
    "name": "ipython",
    "version": 3
   },
   "file_extension": ".py",
   "mimetype": "text/x-python",
   "name": "python",
   "nbconvert_exporter": "python",
   "pygments_lexer": "ipython3",
   "version": "3.7.3"
  }
 },
 "nbformat": 4,
 "nbformat_minor": 2
}
