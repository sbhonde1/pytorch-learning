{
 "cells": [
  {
   "cell_type": "code",
   "execution_count": 13,
   "metadata": {},
   "outputs": [],
   "source": [
    "import torch\n",
    "import numpy as np"
   ]
  },
  {
   "cell_type": "code",
   "execution_count": 14,
   "metadata": {},
   "outputs": [],
   "source": [
    "\"\"\"\n",
    "Init signature: torch.nn.Linear(in_features, out_features, bias=True)\n",
    "Docstring:     \n",
    "Applies a linear transformation to the incoming data: :math:`y = xA^T + b`\n",
    "\n",
    "Args:\n",
    "    in_features: size of each input sample\n",
    "    out_features: size of each output sample\n",
    "    bias: If set to ``False``, the layer will not learn an additive bias.\n",
    "        Default: ``True``\n",
    "\"\"\"\n",
    "net = torch.nn.Linear(4, 2)"
   ]
  },
  {
   "cell_type": "code",
   "execution_count": 15,
   "metadata": {},
   "outputs": [
    {
     "name": "stdout",
     "output_type": "stream",
     "text": [
      "tensor([0., 1., 2., 3.])\n",
      "tensor([-0.7402,  0.0309], grad_fn=<AddBackward0>)\n"
     ]
    }
   ],
   "source": [
    "x = torch.arange(0, 4).float()\n",
    "print(x)\n",
    "# y = net.forward(x) # alternatively\n",
    "y = net(x)\n",
    "print(y)"
   ]
  },
  {
   "cell_type": "code",
   "execution_count": 16,
   "metadata": {},
   "outputs": [
    {
     "name": "stdout",
     "output_type": "stream",
     "text": [
      "Parameter containing:\n",
      "tensor([[ 0.0015, -0.0476,  0.2135, -0.2137],\n",
      "        [ 0.1825,  0.2287,  0.3416, -0.1389]], requires_grad=True)\n",
      "Parameter containing:\n",
      "tensor([-0.4785, -0.4641], requires_grad=True)\n"
     ]
    }
   ],
   "source": [
    "for param in net.parameters():\n",
    "    print(param)"
   ]
  },
  {
   "cell_type": "markdown",
   "metadata": {},
   "source": [
    "You can use small networks inside big networks. Parameters of subnetworks will be absorbed.\n",
    "Here we're passing (def forward) parameters sequentially one by one through layers"
   ]
  },
  {
   "cell_type": "code",
   "execution_count": 17,
   "metadata": {},
   "outputs": [],
   "source": [
    "class MyNet(torch.nn.Module):\n",
    "    def __init__(self, input_size, hidden_size, output_size):\n",
    "        super().__init__()\n",
    "        self.layer1 = torch.nn.Linear(input_size, hidden_size)\n",
    "        self.layer2 = torch.nn.Sigmoid()\n",
    "        self.layer3 = torch.nn.Linear(hidden_size, output_size)\n",
    "    \n",
    "    def forward(self, input_val):\n",
    "        h = input_val\n",
    "        h = self.layer1(h)\n",
    "        h = self.layer2(h)\n",
    "        h = self.layer3(h)\n",
    "        return h\n",
    "\n",
    "net = MyNet(4, 16, 2)"
   ]
  },
  {
   "cell_type": "markdown",
   "metadata": {},
   "source": [
    "This is a shortcut for simple feedforward networks. "
   ]
  },
  {
   "cell_type": "code",
   "execution_count": 18,
   "metadata": {},
   "outputs": [],
   "source": [
    "def generate_net(input_size, hidden_size, output_size):\n",
    "    return torch.nn.Sequential(torch.nn.Linear(input_size, hidden_size),\n",
    "                              torch.nn.ReLU(), \n",
    "                              torch.nn.Linear(hidden_size, output_size))\n",
    "\n",
    "net = generate_net(4, 16, 2)"
   ]
  },
  {
   "cell_type": "markdown",
   "metadata": {},
   "source": [
    "Final Layers and Losses"
   ]
  },
  {
   "cell_type": "code",
   "execution_count": 22,
   "metadata": {},
   "outputs": [
    {
     "name": "stdout",
     "output_type": "stream",
     "text": [
      "tensor([[0., 1., 2., 3.],\n",
      "        [0., 0., 0., 0.],\n",
      "        [1., 1., 1., 1.]])\n",
      "tensor([0, 1, 0])\n",
      "tensor([[ 0.1432, -0.2828],\n",
      "        [ 0.0435, -0.0924],\n",
      "        [ 0.0106,  0.0714]], grad_fn=<AddmmBackward>)\n",
      "tensor(0.6634, grad_fn=<NllLossBackward>)\n"
     ]
    }
   ],
   "source": [
    "x = torch.tensor([np.arange(4), np.zeros(4), np.ones(4)]).float()\n",
    "print(x)\n",
    "y = torch.tensor([0, 1, 0])\n",
    "print(y)\n",
    "criterion = torch.nn.CrossEntropyLoss()\n",
    "output = net(x)\n",
    "print(output)\n",
    "loss = criterion(output, y)\n",
    "print(loss)"
   ]
  },
  {
   "cell_type": "markdown",
   "metadata": {},
   "source": [
    "How to use the optimizer\n",
    "-Remember that backpropagation in pytorch accumulates.\n",
    "If you want to apply several iterations of gradient descent, gradients must be set to zero before each optimization step."
   ]
  },
  {
   "cell_type": "code",
   "execution_count": 23,
   "metadata": {},
   "outputs": [],
   "source": [
    "optimizer = torch.optim.SGD(net.parameters(), lr=0.001)\n",
    "n_iter = 100\n",
    "for i in range(n_iter):\n",
    "    optimizer.zero_grad()\n",
    "    output = net(x)\n",
    "    loss = criterion(output, y)\n",
    "    loss.backward()\n",
    "    optimizer.step()"
   ]
  },
  {
   "cell_type": "code",
   "execution_count": null,
   "metadata": {},
   "outputs": [],
   "source": []
  }
 ],
 "metadata": {
  "kernelspec": {
   "display_name": "Python 3",
   "language": "python",
   "name": "python3"
  },
  "language_info": {
   "codemirror_mode": {
    "name": "ipython",
    "version": 3
   },
   "file_extension": ".py",
   "mimetype": "text/x-python",
   "name": "python",
   "nbconvert_exporter": "python",
   "pygments_lexer": "ipython3",
   "version": "3.7.3"
  }
 },
 "nbformat": 4,
 "nbformat_minor": 2
}
